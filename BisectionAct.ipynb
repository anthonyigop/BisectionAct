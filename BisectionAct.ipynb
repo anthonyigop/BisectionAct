{
 "cells": [
  {
   "cell_type": "code",
   "execution_count": null,
   "id": "43129514-6c29-4557-8607-1ffacfd677ef",
   "metadata": {},
   "outputs": [],
   "source": [
    "import numpy as np\n",
    "import matplotlib.pyplot as plt\n",
    "\n",
    "x = np.linspace(-3, 1, 1000)\n",
    "y = x**5 - 2*x + 10\n",
    "\n",
    "x_point = 0\n",
    "y_point = x_point**5 - 2*x_point + 10\n",
    "\n",
    "\n",
    "plt.plot(x, y, label=\"y = x^5 - 2x + 10\") \n",
    "plt.scatter(x_point, y_point, color='red', zorder=3, label=f\"Point ({x_point}, {y_point})\")\n",
    "plt.grid(True)\n",
    "plt.show()"
   ]
  }
 ],
 "metadata": {
  "kernelspec": {
   "display_name": "Python 3 (ipykernel)",
   "language": "python",
   "name": "python3"
  },
  "language_info": {
   "codemirror_mode": {
    "name": "ipython",
    "version": 3
   },
   "file_extension": ".py",
   "mimetype": "text/x-python",
   "name": "python",
   "nbconvert_exporter": "python",
   "pygments_lexer": "ipython3",
   "version": "3.12.8"
  }
 },
 "nbformat": 4,
 "nbformat_minor": 5
}
